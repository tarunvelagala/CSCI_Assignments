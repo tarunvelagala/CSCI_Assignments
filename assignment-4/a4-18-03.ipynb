{
 "cells": [
  {
   "cell_type": "code",
   "execution_count": null,
   "metadata": {},
   "outputs": [],
   "source": [
    "# Before executing all the code run the below commands in terminal \n",
    "# pip install pandas scipy"
   ]
  },
  {
   "cell_type": "code",
   "execution_count": 24,
   "metadata": {},
   "outputs": [],
   "source": [
    "import os\n",
    "from urllib.request import urlretrieve\n",
    "\n",
    "def download_text(url):\n",
    "    local_fname = os.path.basename(url)\n",
    "    if not os.path.exists(local_fname):\n",
    "        urlretrieve(url, local_fname)\n",
    "    return local_fname"
   ]
  },
  {
   "cell_type": "code",
   "execution_count": 25,
   "metadata": {},
   "outputs": [],
   "source": [
    "fname = download_text('https://www.gutenberg.org/files/2650/2650-0.txt')"
   ]
  },
  {
   "cell_type": "code",
   "execution_count": 26,
   "metadata": {},
   "outputs": [],
   "source": [
    "def read_file(file):\n",
    "    f = open(file, encoding='utf-8')\n",
    "    l = f.read().splitlines()\n",
    "    return list(filter(None, l))\n",
    "\n",
    "\n",
    "x = read_file('2650-0.txt')\n",
    "\n",
    "def index_of_substring(sub, l):\n",
    "    return min([i for i, elem in enumerate(l) if sub in elem])\n",
    "\n",
    "def read_data(x):\n",
    "    start_index = index_of_substring('*** START', x)\n",
    "    end_index = index_of_substring('*** END', x)\n",
    "    return x[start_index+1:end_index]\n",
    "\n",
    "data = read_data(x)\n",
    "# print(read_data(x))"
   ]
  },
  {
   "cell_type": "code",
   "execution_count": 27,
   "metadata": {},
   "outputs": [
    {
     "name": "stdout",
     "output_type": "stream",
     "text": [
      "(360122, 426580)\n"
     ]
    }
   ],
   "source": [
    "def count_vowel_and_consonants(d):\n",
    "    vovel_count = 0\n",
    "    consonant_count = 0\n",
    "    for i in d:\n",
    "        for j in i.lower():\n",
    "            for k in j:\n",
    "                if j in 'aeiouyàâæèéêëîïôùûüÿœ':\n",
    "                    vovel_count += 1\n",
    "                elif k.isalpha():\n",
    "                    consonant_count += 1\n",
    "    return vovel_count, consonant_count\n",
    "\n",
    "print(count_vowel_and_consonants(data))"
   ]
  },
  {
   "cell_type": "code",
   "execution_count": 28,
   "metadata": {},
   "outputs": [],
   "source": [
    "\n",
    "def convert_diatrics_and_digraphs(data):\n",
    "    d = {'à':'a', 'â':'a', 'è':'e', 'é':'e', 'ê':'e', 'ë':'e', 'î':'i', 'ï':'i', 'ô':'o', 'ù':'u', 'û':'u', 'ü':'u', 'ÿ':'y', 'æ':'ae', 'œ':'oe'}\n",
    "    output = []\n",
    "\n",
    "    for i in data:\n",
    "        for key, value in d.items():\n",
    "            i = i.replace(key, value)\n",
    "            i = i.replace(key.upper(), value.upper())\n",
    "        output.append(i)\n",
    "    return output\n",
    "answer = convert_diatrics_and_digraphs(data)\n",
    "# print(convert_diatrics_and_digraphs(data))"
   ]
  },
  {
   "cell_type": "code",
   "execution_count": 29,
   "metadata": {},
   "outputs": [],
   "source": [
    "\n",
    "def conversion_change(before_count, after_count):\n",
    "    if after_count >= before_count:\n",
    "        return '+' + str('{0:.2f}'.format(float(((after_count-before_count)/after_count)*100))) + '%'\n",
    "    else:\n",
    "        return '-' + str('{0:.2f}'.format(float(((before_count-after_count)/before_count)*100))) + '%'\n",
    "\n",
    "def write_output_file(file):\n",
    "    before_vowel_count, before_consonant_count = count_vowel_and_consonants(data)\n",
    "    after_vowel_count, after_consonant_count = count_vowel_and_consonants(answer)\n",
    "    with open(file, \"r+\") as f:\n",
    "        f.write('From Project Gutenberg (www.gutenberg.org)')\n",
    "        f.write('\\n')\n",
    "        f.write('Converted by: Ima Huskie')\n",
    "        f.write('\\n\\n')\n",
    "        f.write('*** START OF THE EBOOK ***')\n",
    "        f.write('\\n')\n",
    "        f.writelines(answer)\n",
    "        f.write('\\n')\n",
    "        f.write('*** END OF THE EBOOK ***')\n",
    "        f.write('\\n\\n')\n",
    "        f.write('Number of vowels before:' + '       ' + str(before_vowel_count))\n",
    "        f.write('\\n')\n",
    "        f.write('Number of vowels after:' + '        ' + str(after_vowel_count))\n",
    "        f.write('\\n')\n",
    "        f.write('Conversion Change:' + '             ' + conversion_change(before_vowel_count, after_vowel_count))\n",
    "        f.write('\\n\\n')\n",
    "        f.write('Number of consonants before:' + '   ' + str(before_consonant_count))\n",
    "        f.write('\\n')\n",
    "        f.write('Number of consonants after:' + '    ' + str(after_consonant_count))\n",
    "        f.write('\\n')\n",
    "        f.write('Conversion Change:' + '             ' + conversion_change(before_consonant_count, after_consonant_count))\n",
    "        f.close()\n",
    "\n",
    "write_output_file('2650-0-converted.txt')"
   ]
  },
  {
   "cell_type": "code",
   "execution_count": 30,
   "metadata": {},
   "outputs": [],
   "source": [
    "fname2 = download_text('https://www.gutenberg.org/files/1342/1342-0.txt')"
   ]
  },
  {
   "cell_type": "code",
   "execution_count": 40,
   "metadata": {},
   "outputs": [],
   "source": [
    "import pandas as pd\n",
    "from scipy.stats import chi2_contingency\n",
    "\n",
    "def compare_texts(file1, file2):\n",
    "    filename1 = download_text(file1)\n",
    "    filename2 = download_text(file2)\n",
    "    f1 = read_file(filename1)\n",
    "    f2 = read_file(filename2)\n",
    "    data1 = read_data(f1)\n",
    "    data2 = read_data(f2)\n",
    "    data1 = convert_diatrics_and_digraphs(data1)\n",
    "    data2 = convert_diatrics_and_digraphs(data2)\n",
    "    vowel_count1, consonant_count1 = count_vowel_and_consonants(data1)\n",
    "    vowel_count2, consonant_count2 = count_vowel_and_consonants(data2)\n",
    "    indexes = [filename1, filename2, 'Total']\n",
    "    dic = {'# of vowels': [vowel_count1, vowel_count2, vowel_count1 + vowel_count2], \n",
    "    '# of consonants': [consonant_count1, consonant_count2, consonant_count1 + consonant_count2], \n",
    "    'Total': [vowel_count1 + consonant_count1, vowel_count2 + consonant_count2, vowel_count1 + vowel_count2 + consonant_count1 + consonant_count2]}\n",
    "    df = pd.DataFrame(dic, index=indexes)\n",
    "    required_df = df.iloc[:2,:2]\n",
    "    obs = required_df.to_numpy()\n",
    "    chi2, p, dof, ex = chi2_contingency(obs)\n",
    "    return df, 'p-value: ' + str(p)"
   ]
  },
  {
   "cell_type": "code",
   "execution_count": 41,
   "metadata": {},
   "outputs": [
    {
     "data": {
      "text/plain": [
       "(            # of vowels  # of consonants    Total\n",
       " 2650-0.txt       360385           426580   786965\n",
       " 1342-0.txt       216806           320179   536985\n",
       " Total            577191           746759  1323950,\n",
       " 'p-value: 0.0')"
      ]
     },
     "execution_count": 41,
     "metadata": {},
     "output_type": "execute_result"
    }
   ],
   "source": [
    "\n",
    "compare_texts('https://www.gutenberg.org/files/2650/2650-0.txt', 'https://www.gutenberg.org/files/1342/1342-0.txt')"
   ]
  },
  {
   "cell_type": "code",
   "execution_count": 42,
   "metadata": {},
   "outputs": [
    {
     "data": {
      "text/plain": [
       "(            # of vowels  # of consonants    Total\n",
       " 161-0.txt        212215           313598   525813\n",
       " 1342-0.txt       216806           320179   536985\n",
       " Total            429021           633777  1062798,\n",
       " 'p-value: 0.8740327835853077')"
      ]
     },
     "execution_count": 42,
     "metadata": {},
     "output_type": "execute_result"
    }
   ],
   "source": [
    "\n",
    "compare_texts('https://www.gutenberg.org/files/161/161-0.txt', 'https://www.gutenberg.org/files/1342/1342-0.txt')"
   ]
  }
 ],
 "metadata": {
  "interpreter": {
   "hash": "8b8334dab9339717f727a1deaf837b322d7a41c20d15cc86be99a8e69ceec8ce"
  },
  "kernelspec": {
   "display_name": "Python 3.8.12 64-bit ('3.8.12')",
   "language": "python",
   "name": "python3"
  },
  "language_info": {
   "codemirror_mode": {
    "name": "ipython",
    "version": 3
   },
   "file_extension": ".py",
   "mimetype": "text/x-python",
   "name": "python",
   "nbconvert_exporter": "python",
   "pygments_lexer": "ipython3",
   "version": "3.8.12"
  },
  "orig_nbformat": 4
 },
 "nbformat": 4,
 "nbformat_minor": 2
}
