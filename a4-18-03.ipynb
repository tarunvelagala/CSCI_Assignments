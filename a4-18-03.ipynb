{
 "cells": [
  {
   "cell_type": "code",
   "execution_count": 25,
   "metadata": {},
   "outputs": [],
   "source": [
    "import os\n",
    "from urllib.request import urlretrieve\n",
    "\n",
    "def download_text(url):\n",
    "    local_fname = os.path.basename(url)\n",
    "    if not os.path.exists(local_fname):\n",
    "        urlretrieve(url, local_fname)\n",
    "    return local_fname"
   ]
  },
  {
   "cell_type": "code",
   "execution_count": 26,
   "metadata": {},
   "outputs": [],
   "source": [
    "fname = download_text('https://www.gutenberg.org/files/2650/2650-0.txt')"
   ]
  },
  {
   "cell_type": "code",
   "execution_count": 139,
   "metadata": {},
   "outputs": [],
   "source": [
    "def something(file):\n",
    "    f = open(file, encoding='utf-8')\n",
    "    l = f.read().splitlines()\n",
    "    return list(filter(None, l))\n",
    "\n",
    "\n",
    "x = something('2650-0.txt')\n",
    "\n",
    "def index_of_substring(sub, l):\n",
    "    return min([i for i, elem in enumerate(l) if sub in elem])\n",
    "\n",
    "start_index = index_of_substring('*** START', x)\n",
    "end_index = index_of_substring('*** END', x)\n",
    "data = x[start_index+1:end_index]"
   ]
  },
  {
   "cell_type": "code",
   "execution_count": 140,
   "metadata": {},
   "outputs": [
    {
     "name": "stdout",
     "output_type": "stream",
     "text": [
      "(360122, 426580)\n"
     ]
    }
   ],
   "source": [
    "def count_vowel_and_consonants(data):\n",
    "    vovel_count = 0\n",
    "    consonant_count = 0\n",
    "    for i in data:\n",
    "        for j in i.lower():\n",
    "            for k in j:\n",
    "                if j in 'aeiouyàâæèéêëîïôùûüÿœ':\n",
    "                    vovel_count += 1\n",
    "                elif k.isalpha():\n",
    "                    consonant_count += 1\n",
    "    return vovel_count, consonant_count\n",
    "\n",
    "print(count_vowel_and_consonants(data))"
   ]
  },
  {
   "cell_type": "code",
   "execution_count": 106,
   "metadata": {},
   "outputs": [],
   "source": [
    "d = dict({'à':'a', 'â':'a', 'è':'e', 'é':'e', 'ê':'e', 'ë':'e', 'î':'i', 'ï':'i', 'ô':'o', 'ù':'u', 'û':'u', 'ü':'u', 'ÿ':'y', 'æ':'ae', 'œ':'oe'})\n",
    "\n",
    "answer = []\n",
    "\n",
    "for i in data:\n",
    "    for key, value in d.items():\n",
    "        i = i.replace(key, value)\n",
    "        i = i.replace(key.upper(), value.upper())\n",
    "    answer.append(i)\n",
    "\n",
    "# print(answer)"
   ]
  },
  {
   "cell_type": "code",
   "execution_count": 146,
   "metadata": {},
   "outputs": [],
   "source": [
    "\n",
    "def conversion_change(before_count, after_count):\n",
    "    if after_count >= before_count:\n",
    "        return '+' + str('{0:.2f}'.format(float(((after_count-before_count)/after_count)*100))) + '%'\n",
    "    else:\n",
    "        return '-' + str('{0:.2f}'.format(float(((before_count-after_count)/before_count)*100))) + '%'\n",
    "\n",
    "def write_output_file(file):\n",
    "    before_vowel_count, before_consonant_count = count_vowel_and_consonants(data)\n",
    "    after_vowel_count, after_consonant_count = count_vowel_and_consonants(answer)\n",
    "    with open(file, \"r+\") as f:\n",
    "        f.write('From Project Gutenberg (www.gutenberg.org)\\n')\n",
    "        f.write('Converted by: Ima Huskie\\n\\n')\n",
    "        f.write('*** START OF THE EBOOK ***\\n')\n",
    "        f.writelines(answer)\n",
    "        f.write('\\n*** END OF THE EBOOK ***\\n')\n",
    "        f.write('\\nNumber of vowels before:' + '\\t' + str(before_vowel_count))\n",
    "        f.write('\\nNumber of vowels after:' + '\\t' + str(after_vowel_count))\n",
    "        f.write('\\nConversion Change:' + '\\t' + conversion_change(before_vowel_count, after_vowel_count) + '\\n')\n",
    "\n",
    "        f.write('\\nNumber of consonants before:' + '\\t' + str(before_consonant_count))\n",
    "        f.write('\\nNumber of consonants after:' + '\\t' + str(after_consonant_count))\n",
    "        f.write('\\nConversion Change:' + '\\t' + conversion_change(before_consonant_count, after_consonant_count))\n",
    "\n",
    "write_output_file('2650-0-converted.txt')"
   ]
  }
 ],
 "metadata": {
  "interpreter": {
   "hash": "8b8334dab9339717f727a1deaf837b322d7a41c20d15cc86be99a8e69ceec8ce"
  },
  "kernelspec": {
   "display_name": "Python 3.8.12 64-bit ('3.8.12')",
   "language": "python",
   "name": "python3"
  },
  "language_info": {
   "codemirror_mode": {
    "name": "ipython",
    "version": 3
   },
   "file_extension": ".py",
   "mimetype": "text/x-python",
   "name": "python",
   "nbconvert_exporter": "python",
   "pygments_lexer": "ipython3",
   "version": "3.8.12"
  },
  "orig_nbformat": 4
 },
 "nbformat": 4,
 "nbformat_minor": 2
}
