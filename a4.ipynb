{
 "cells": [
  {
   "cell_type": "code",
   "execution_count": 1,
   "metadata": {},
   "outputs": [],
   "source": [
    "import os\n",
    "import json\n",
    "from urllib.request import urlretrieve\n",
    "\n",
    "url = \"http://faculty.cs.niu.edu/~dakoop/cs503-2022sp/a3/food-data-sample.json\"\n",
    "local_fname = 'food-data-sample.json'\n",
    "if not os.path.exists(local_fname):\n",
    "    urlretrieve(url, local_fname)\n",
    "data = json.load(open(local_fname))"
   ]
  },
  {
   "cell_type": "code",
   "execution_count": 2,
   "metadata": {},
   "outputs": [
    {
     "data": {
      "text/plain": [
       "{'fdc_id': 345534,\n",
       " 'brand_owner': 'Red Gold',\n",
       " 'brand_name': None,\n",
       " 'description': 'Red Gold 28oz. Petite Diced Tomatoes',\n",
       " 'branded_food_category': None,\n",
       " 'ingredients': 'Tomatoes, Tomato Juice, Less Than 2% of: Salt, Calcium Chloride, Citric Acid',\n",
       " 'serving_size': 121.0,\n",
       " 'serving_size_unit': 'g',\n",
       " 'nutrition': [{'name': 'Fiber', 'amount': 0.8, 'unit_name': 'G'},\n",
       "  {'name': 'Saturated Fat', 'amount': 0.0, 'unit_name': 'G'},\n",
       "  {'name': 'Carbohydrates', 'amount': 4.13, 'unit_name': 'G'},\n",
       "  {'name': 'Sodium', 'amount': 149.0, 'unit_name': 'MG'},\n",
       "  {'name': 'Total Fat', 'amount': 0.0, 'unit_name': 'G'},\n",
       "  {'name': 'Protein', 'amount': 0.83, 'unit_name': 'G'},\n",
       "  {'name': 'Calories', 'amount': 21.0, 'unit_name': 'KCAL'},\n",
       "  {'name': 'Sugar', 'amount': 2.48, 'unit_name': 'G'}]}"
      ]
     },
     "execution_count": 2,
     "metadata": {},
     "output_type": "execute_result"
    }
   ],
   "source": [
    "data[0]"
   ]
  },
  {
   "cell_type": "code",
   "execution_count": 3,
   "metadata": {},
   "outputs": [
    {
     "data": {
      "text/plain": [
       "{'g', 'ml'}"
      ]
     },
     "execution_count": 3,
     "metadata": {},
     "output_type": "execute_result"
    }
   ],
   "source": [
    "set([i[\"serving_size_unit\"] for i in data])"
   ]
  },
  {
   "cell_type": "code",
   "execution_count": 4,
   "metadata": {},
   "outputs": [
    {
     "name": "stdout",
     "output_type": "stream",
     "text": [
      "Schnuck Markets, Inc.\n",
      "None\n"
     ]
    }
   ],
   "source": [
    "food_item_with_largest_size = max([i for i in data if i[\"serving_size_unit\"]=='g'], key=lambda x: x['serving_size'])\n",
    "print(food_item_with_largest_size['brand_owner'])\n",
    "print(food_item_with_largest_size['brand_name'])"
   ]
  },
  {
   "cell_type": "code",
   "execution_count": 5,
   "metadata": {},
   "outputs": [
    {
     "name": "stdout",
     "output_type": "stream",
     "text": [
      "Popcorn, Peanuts, Seeds & Related Snacks\n"
     ]
    }
   ],
   "source": [
    "m = [i['branded_food_category'] for i in data]\n",
    "d = {}\n",
    "for i in m:\n",
    "    if i not in d:\n",
    "        d[i]=0\n",
    "    d[i]+=1\n",
    "print(max(d, key=lambda x:d[x]))"
   ]
  },
  {
   "cell_type": "code",
   "execution_count": 6,
   "metadata": {},
   "outputs": [],
   "source": [
    "\n",
    "for i in data:\n",
    "    j = i['nutrition']\n",
    "    total_fat = 0\n",
    "    for x in j:\n",
    "        if x['name'] == 'Saturated Fat':\n",
    "            saturated_fat = x['amount']\n",
    "        if x['name'] == 'Total Fat':\n",
    "            total_fat = x['amount']\n",
    "    unsaturated_fat = total_fat - saturated_fat\n",
    "    j.append({'name': 'Unsaturated Fat', 'amount': unsaturated_fat, 'unit_name': 'G'})\n",
    "# print(data)\n"
   ]
  },
  {
   "cell_type": "code",
   "execution_count": 9,
   "metadata": {},
   "outputs": [
    {
     "name": "stdout",
     "output_type": "stream",
     "text": [
      "['SISTERS FRUIT COMPANY, RED DELICIOUS SLICED APPLE CHIPS, LIGHT & CRISPY', 'PINTO BEANS', 'VANILLA ALMOND PREMIUM NATURALLY FLAVORED GRANOLA', \"BUSH'S Red Beans in a Mild Chili Sauce 16 oz\", 'FRUIT & NUT GRANOLA, FRUIT & NUT', 'VANILLA ALMOND WARM VANILLA FLAVOR PERFECTLY MIXED WITH SWEET HONEY AND SATISFYING ALMONDS PREMIUM GRANOLA, VANILLA ALMOND']\n"
     ]
    }
   ],
   "source": [
    "def filter_by_fiber(min_fiber, max_fiber):\n",
    "    return [i['description'] for i in data for j in i['nutrition'] if j['name'] == 'Fiber' and min_fiber<=j['amount']<=max_fiber]\n",
    "\n",
    "print(filter_by_fiber(6.3, 6.35))    \n"
   ]
  },
  {
   "cell_type": "code",
   "execution_count": 22,
   "metadata": {},
   "outputs": [
    {
     "name": "stdout",
     "output_type": "stream",
     "text": [
      "605\n",
      "['WILD MUSHROOM & TRUFFLE', 'ARTICHOKE HEARTS', 'FLAN DESSERT MIX', 'CHICKEN TIKKA MASALA WITH SAFFRON RICE, MEDIUM', 'CON AZAFRAN SEASONING', 'SEASONED YELLOWRICE']\n"
     ]
    }
   ],
   "source": [
    "def filter_by_ingredients(ingredient):\n",
    "    return [i['description'] for i in data if i['ingredients'] is not None and (ingredient in i['ingredients'].lower() or ingredient.upper() in i['ingredients'].upper())]\n",
    "\n",
    "# print(filter_by_ingredients('apple'))\n",
    "print(len(filter_by_ingredients('apple'))) # 605\n",
    "print(filter_by_ingredients('saffron'))\n"
   ]
  }
 ],
 "metadata": {
  "interpreter": {
   "hash": "8b8334dab9339717f727a1deaf837b322d7a41c20d15cc86be99a8e69ceec8ce"
  },
  "kernelspec": {
   "display_name": "Python 3.8.12 64-bit ('3.8.12')",
   "language": "python",
   "name": "python3"
  },
  "language_info": {
   "codemirror_mode": {
    "name": "ipython",
    "version": 3
   },
   "file_extension": ".py",
   "mimetype": "text/x-python",
   "name": "python",
   "nbconvert_exporter": "python",
   "pygments_lexer": "ipython3",
   "version": "3.8.12"
  },
  "orig_nbformat": 4
 },
 "nbformat": 4,
 "nbformat_minor": 2
}
